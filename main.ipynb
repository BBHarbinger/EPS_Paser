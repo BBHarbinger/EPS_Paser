{
 "cells": [
  {
   "cell_type": "markdown",
   "metadata": {},
   "source": [
    "# DevOps Engineer Interview Project\n",
    "**Author : Felix Yuzhou Sun**"
   ]
  },
  {
   "cell_type": "markdown",
   "metadata": {},
   "source": [
    "## 0. Introduction"
   ]
  },
  {
   "cell_type": "markdown",
   "metadata": {},
   "source": [
    "In the context of financial analysis, accurately extracting Earnings Per Share (EPS) data from regulatory filings is essential for investors, analysts, and financial professionals. This task, often complicated by the diverse formats and structures of financial documents, requires a robust and adaptable parsing solution.\n",
    "\n",
    "This project involves developing a parser to extract EPS data from SEC EDGAR filings in HTML format, as part of an assessment for a DevOps Engineer Interview at Trexquant Investment LP. The primary objective is to create a versatile parser that can handle various filing formats, systematically extract the latest quarterly EPS for each company, and present this data in a structured CSV format.\n",
    "\n",
    "The development and testing of this parser are grounded in the analysis of 50 provided HTML files, focusing on identifying common patterns, handling variations, and ensuring the parser's adaptability to unseen document formats. The outcome of this project will be a reliable tool capable of facilitating informed financial decision-making through accurate data extraction."
   ]
  },
  {
   "cell_type": "markdown",
   "metadata": {},
   "source": [
    "## 1. Understanding the data"
   ]
  },
  {
   "cell_type": "markdown",
   "metadata": {},
   "source": [
    "To build a robust parser, we will meticulously analyze the 50 training filings, identifying the common patterns and locations where EPS data is typically reported. This analysis will encompass recognizing keywords, table structures, and contextual cues that signal the presence of relevant information. We will also pay close attention to potential inconsistencies and edge cases, ensuring our parser's accuracy and adaptability across different EDGAR filings."
   ]
  },
  {
   "cell_type": "code",
   "execution_count": null,
   "metadata": {},
   "outputs": [],
   "source": [
    "# Set Up Environment\n",
    "%pip install beautifulsoup4 pandas"
   ]
  },
  {
   "cell_type": "code",
   "execution_count": 38,
   "metadata": {},
   "outputs": [],
   "source": [
    "\n",
    "import os\n",
    "from bs4 import BeautifulSoup\n",
    "import pandas as pd\n",
    "import re\n",
    "from collections import defaultdict"
   ]
  },
  {
   "cell_type": "code",
   "execution_count": 40,
   "metadata": {},
   "outputs": [
    {
     "name": "stdout",
     "output_type": "stream",
     "text": [
      "Current working directory: /home/bbharbinger/Projects/EPS_Paser\n",
      "/home/bbharbinger/Projects/EPS_Paser/Training_Filings\n",
      "Found 50 HTML files.\n"
     ]
    }
   ],
   "source": [
    "# Check the html data\n",
    "current_directory = os.getcwd()\n",
    "data_directory  = 'Training_Filings'\n",
    "data_path = os.path.join(current_directory, data_directory)\n",
    "print(f\"Current working directory: {current_directory}\")\n",
    "print(data_path)\n",
    "\n",
    "# Verify the data size\n",
    "html_files = [f for f in os.listdir(data_path) if f.endswith('.html')]\n",
    "# Total number of files\n",
    "total_files = len(html_files)\n",
    "print(f\"Found {total_files} HTML files.\")"
   ]
  },
  {
   "cell_type": "markdown",
   "metadata": {},
   "source": [
    "### Check the data structure: Tag Analysis"
   ]
  },
  {
   "cell_type": "code",
   "execution_count": null,
   "metadata": {},
   "outputs": [],
   "source": [
    "# Dictionary to hold the number of files in which each tag appears\n",
    "tag_file_count = defaultdict(int)\n",
    "\n",
    "# Iterate through all files and count tags\n",
    "for file in html_files:\n",
    "    filepath = os.path.join(data_path, file)\n",
    "    \n",
    "    with open(filepath, 'r', encoding='utf-8') as html_file:\n",
    "        soup = BeautifulSoup(html_file, 'html.parser')\n",
    "        \n",
    "        # Extract unique tags from the current file\n",
    "        unique_tags_in_file = set(tag.name for tag in soup.find_all(True))\n",
    "        \n",
    "        # Update the count of each tag, but only once per file\n",
    "        for tag in unique_tags_in_file:\n",
    "            tag_file_count[tag] += 1\n",
    "\n",
    "# Calculate the percentage of files in which each tag appears\n",
    "tag_percentage = {tag: (count / total_files) * 100 for tag, count in tag_file_count.items()}\n",
    "\n",
    "# Sort the tags by percentage in descending order\n",
    "sorted_tags = sorted(tag_percentage.items(), key=lambda item: item[1], reverse=True)\n",
    "\n",
    "# Print results\n",
    "print(f\"{'Tag':<15}{'Files':<10}{'Percentage':<10}\")\n",
    "for tag, percentage in sorted_tags:\n",
    "    print(f\"{tag:<15}{tag_file_count[tag]:<10}{percentage:<10.2f}%\")"
   ]
  },
  {
   "cell_type": "markdown",
   "metadata": {},
   "source": [
    "### Tag analysis results\n",
    "\n",
    "| Tag 1         | Files | Percentage | Tag 2         | Files | Percentage |\n",
    "|---------------|-------|------------|---------------|-------|------------|\n",
    "| table         | 50    | 100.00%    | sup           | 38    | 76.00%     |\n",
    "| document      | 50    | 100.00%    | img           | 36    | 72.00%     |\n",
    "| type          | 50    | 100.00%    | a             | 26    | 52.00%     |\n",
    "| html          | 50    | 100.00%    | p             | 23    | 46.00%     |\n",
    "| font          | 50    | 100.00%    | b             | 14    | 28.00%     |\n",
    "| td            | 50    | 100.00%    | u             | 13    | 26.00%     |\n",
    "| sequence      | 50    | 100.00%    | i             | 8     | 16.00%     |\n",
    "| filename      | 50    | 100.00%    | ul            | 4     | 8.00%      |\n",
    "| text          | 50    | 100.00%    | li            | 4     | 8.00%      |\n",
    "| tr            | 50    | 100.00%    | center        | 4     | 8.00%      |\n",
    "| body          | 50    | 100.00%    | h1            | 3     | 6.00%      |\n",
    "| title         | 49    | 98.00%     | h2            | 3     | 6.00%      |\n",
    "| description   | 49    | 98.00%     | meta          | 2     | 4.00%      |\n",
    "| div           | 49    | 98.00%     |  em           | 1     | 2.00%      |\n",
    "| br            | 46    | 92.00%     | strike        | 1     | 2.00%      |\n",
    "| hr            | 42    | 84.00%     | strong        | 1     | 2.00%      |\n"
   ]
  },
  {
   "cell_type": "markdown",
   "metadata": {},
   "source": [
    "### Insights from the Tag Analysis\n",
    "\n",
    "\n",
    "1. **Core Tags (`table`, `td`, `tr`)**:\n",
    "   - **High Occurrence (100%)**: Tags like `<table>`, `<td>`, `<tr>`, and related tags appear in every document. This indicates that EPS data, which is typically presented in tabular format, is consistently structured within tables. Therefore, the parser should primarily focus on searching within `<table>` tags to locate EPS values.\n",
    "\n",
    "2. **Document Structure (`html`, `body`, `title`)**:\n",
    "   - **High Occurrence (100%)**: Tags such as `<html>`, `<body>`, and `<title>` are present in every file, indicating that all documents follow a well-defined HTML structure. The `<title>` tag, which often contains the document's title, might give context (e.g., the company name or report type) that could help identify relevant sections of the document.\n",
    "\n",
    "3. **Financial Data Tags (`sup`, `sub`)**:\n",
    "   - **Moderate Occurrence (76%, 84%)**: Tags like `<sup>` (often used for superscripts like footnotes) might be associated with small notations beside financial data, including EPS figures. These tags are important for handling any associated footnotes or references that could alter the interpretation of the EPS data (e.g., adjustments for extraordinary items).\n",
    "   \n",
    "4. **Formatting Tags (`font`, `br`, `hr`, `b`)**:\n",
    "   - **High to Moderate Occurrence**: Tags like `<font>`, `<br>`, and `<b>` indicate that the documents use various formatting styles to highlight or structure the data. Bold tags (`<b>`) often emphasize key financial metrics, including EPS.\n",
    "\n",
    "5. **Section Identifiers (`h1`, `h2`, `h3`)**:\n",
    "   - **Low Occurrence (6%)**: Header tags like `<h1>`, `<h2>`, and `<h3>` are less commonly used, but when they do appear, they likely indicate section titles that could guide the parser to the relevant parts of the document (e.g., \"Financial Statements\" or \"Earnings Per Share\").\n",
    "\n",
    "6. **Special Cases (`meta`, `strike`, `strong`)**:\n",
    "   - **Low Occurrence (4% and below)**: Tags such as `<meta>`, `<strike>`, and `<strong>` are rare, suggesting that specific documents might have unique formatting or metadata that could affect how EPS is presented. These tags might be used for more complex document structures or for signaling deprecated or emphasized content.\n"
   ]
  },
  {
   "cell_type": "markdown",
   "metadata": {},
   "source": [
    "### Conclusion\n",
    "\n",
    "1. **Focus on Tables**: Since tables are the most consistent element across all documents, we should prioritize searching within `<table>` tags, specifically looking for rows (`<tr>`) and cells (`<td>`) that likely contain EPS data.\n",
    "  \n",
    "2. **Use Document Structure**: Leverage the consistency in the document structure (e.g., `<html>`, `<body>`, `<title>`) to navigate efficiently to relevant sections and potentially identify the context in which EPS data is presented.\n",
    "\n",
    "3. **Handle Footnotes and References**: Pay attention to superscripts and other formatting tags that might modify or provide additional context to EPS data, ensuring that all extracted figures are interpreted correctly.\n",
    "\n",
    "4. **Edge Cases**: While most documents are structured similarly, there may be less common tags and special cases. We need to make the parser flexible to ensure robust performance across all files."
   ]
  }
 ],
 "metadata": {
  "kernelspec": {
   "display_name": "bdd100kproj",
   "language": "python",
   "name": "python3"
  },
  "language_info": {
   "codemirror_mode": {
    "name": "ipython",
    "version": 3
   },
   "file_extension": ".py",
   "mimetype": "text/x-python",
   "name": "python",
   "nbconvert_exporter": "python",
   "pygments_lexer": "ipython3",
   "version": "3.9.15"
  }
 },
 "nbformat": 4,
 "nbformat_minor": 2
}
